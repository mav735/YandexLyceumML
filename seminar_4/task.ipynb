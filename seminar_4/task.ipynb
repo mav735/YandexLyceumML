{
 "cells": [
  {
   "cell_type": "code",
   "execution_count": 13,
   "id": "53f62f68",
   "metadata": {},
   "outputs": [],
   "source": [
    "from sympy import *\n",
    "from sympy.logic.boolalg import BooleanTrue\n",
    "import matplotlib.pyplot as plt\n",
    "import numpy as np\n"
   ]
  },
  {
   "attachments": {},
   "cell_type": "markdown",
   "id": "f6f8474b",
   "metadata": {},
   "source": [
    "Основные функции для вычислений"
   ]
  },
  {
   "cell_type": "code",
   "execution_count": 15,
   "id": "d46a598f",
   "metadata": {},
   "outputs": [],
   "source": [
    "def return_gradient(x, y, pr=False):\n",
    "    return 39 * (x ** 2) - 7 * y, -7 * x + 2 * y + 6 * (y ** 2)\n",
    "\n",
    "\n",
    "def step(point, learning_rate, show_values=False):\n",
    "    gradient_value = return_gradient(*point, True)\n",
    "\n",
    "    if show_values:\n",
    "        print(gradient_value)\n",
    "\n",
    "    return point[0] - learning_rate * gradient_value[0], point[1] - learning_rate * gradient_value[1]\n",
    "\n",
    "\n",
    "def gradient_down(start, learning_rate, iterations):\n",
    "    points_queue = [start]\n",
    "    for _ in range(iterations):\n",
    "        points_queue.append(step(points_queue[-1], learning_rate))\n",
    "    return points_queue"
   ]
  },
  {
   "cell_type": "code",
   "execution_count": 16,
   "id": "282c2def",
   "metadata": {},
   "outputs": [
    {
     "name": "stdout",
     "output_type": "stream",
     "text": [
      "Градиент в точке (1, 2): (25, 21)\n",
      "Итерация (1) после точки (1, 2): (-1.5, -0.10000000000000009)\n",
      "Точка итерации (1), градиент: (88.45, 10.360000000000001)\n",
      "Итерация (2), градиент:(-10.345, -1.1360000000000003)\n",
      "\n",
      "Точки градиентного спуска:\n",
      "\n",
      "(-1.5, -0.10000000000000009)\n",
      "(-10.345, -1.1360000000000003)\n",
      "(-428.51439750000014, -8.9245976)\n",
      "(-716570.6581884937, -354.8888217231557)\n",
      "(-2002547398708.1755, -577451.017259754)\n",
      "(-1.563976472788624e+25, -1601853447457.1316)\n",
      "(-9.539487389001748e+50, -1.248739598979983e+25)\n",
      "(-3.549070966152012e+102, -7.613251523937638e+50)\n",
      "(-4.912402841885439e+205, -2.8321192689068415e+102)\n",
      "10 точки нет, т.к python ловит overflow :(\n",
      "\n"
     ]
    }
   ],
   "source": [
    "print(f'Градиент в точке (1, 2): {return_gradient(1, 2)}')\n",
    "print(f'Итерация (1) после точки (1, 2): {step([1, 2], 0.1)}')\n",
    "print(f'Точка итерации (1), градиент: {return_gradient(*step([1, 2], 0.1))}')\n",
    "print(f'Итерация (2), градиент:{gradient_down([1, 2], 0.1, 2)[-1]}')\n",
    "\n",
    "print('\\nТочки градиентного спуска:\\n')\n",
    "print(*gradient_down([1, 2], 0.1, 9)[1:], sep='\\n')\n",
    "print('10 точки нет, т.к python ловит overflow :(\\n')\n"
   ]
  },
  {
   "attachments": {},
   "cell_type": "markdown",
   "id": "2d03dcca",
   "metadata": {},
   "source": [
    "Поиск аналитического значение оптимума для функции z."
   ]
  },
  {
   "cell_type": "code",
   "execution_count": 17,
   "id": "7b7da789",
   "metadata": {},
   "outputs": [],
   "source": [
    "x = Symbol('x') \n",
    "y = Symbol('y')\n",
    "z = 13 * x ** 3 - 7 * x * y + y ** 2 + 2 * y ** 3 - 97\n",
    "# Создаем символьное выражение sympy\n",
    "\n",
    "z_prime_x = z.diff(x) #Производная первого порядка по x\n",
    "z_prime_y = z.diff(y) #Производная первого порядка по y\n",
    "\n",
    "z_prime_y_2 = z_prime_y.diff(y) #Производная второго порядка по y\n",
    "z_prime_x_2 = z_prime_x.diff(x) #Производная второго порядка по x"
   ]
  },
  {
   "attachments": {},
   "cell_type": "markdown",
   "id": "d05b07d1",
   "metadata": {},
   "source": [
    "Поиск точек экстремума функции Z(производная по двум переменным должна быть равна 0)"
   ]
  },
  {
   "cell_type": "code",
   "execution_count": 18,
   "id": "b01a26e5",
   "metadata": {},
   "outputs": [
    {
     "name": "stdout",
     "output_type": "stream",
     "text": [
      "\n",
      "\n",
      "Stationary points: \n",
      "(0, 0)\n",
      "(2*(-2/9 + (-1/2 - sqrt(3)*I/2)*(7*sqrt(198849)/25272 + 9365/75816)**(1/3) + 1/(81*(-1/2 - sqrt(3)*I/2)*(7*sqrt(198849)/25272 + 9365/75816)**(1/3)))*(1/3 + 3*(-1/2 - sqrt(3)*I/2)*(7*sqrt(198849)/25272 + 9365/75816)**(1/3) + 1/(27*(-1/2 - sqrt(3)*I/2)*(7*sqrt(198849)/25272 + 9365/75816)**(1/3)))/7, -2/9 + (-1/2 - sqrt(3)*I/2)*(7*sqrt(198849)/25272 + 9365/75816)**(1/3) + 1/(81*(-1/2 - sqrt(3)*I/2)*(7*sqrt(198849)/25272 + 9365/75816)**(1/3)))\n",
      "(2*(-2/9 + 1/(81*(-1/2 + sqrt(3)*I/2)*(7*sqrt(198849)/25272 + 9365/75816)**(1/3)) + (-1/2 + sqrt(3)*I/2)*(7*sqrt(198849)/25272 + 9365/75816)**(1/3))*(1/3 + 1/(27*(-1/2 + sqrt(3)*I/2)*(7*sqrt(198849)/25272 + 9365/75816)**(1/3)) + 3*(-1/2 + sqrt(3)*I/2)*(7*sqrt(198849)/25272 + 9365/75816)**(1/3))/7, -2/9 + 1/(81*(-1/2 + sqrt(3)*I/2)*(7*sqrt(198849)/25272 + 9365/75816)**(1/3)) + (-1/2 + sqrt(3)*I/2)*(7*sqrt(198849)/25272 + 9365/75816)**(1/3))\n",
      "(2*(-2/9 + 1/(81*(7*sqrt(198849)/25272 + 9365/75816)**(1/3)) + (7*sqrt(198849)/25272 + 9365/75816)**(1/3))*(1/(27*(7*sqrt(198849)/25272 + 9365/75816)**(1/3)) + 1/3 + 3*(7*sqrt(198849)/25272 + 9365/75816)**(1/3))/7, -2/9 + 1/(81*(7*sqrt(198849)/25272 + 9365/75816)**(1/3)) + (7*sqrt(198849)/25272 + 9365/75816)**(1/3))\n",
      "\n",
      "\n"
     ]
    }
   ],
   "source": [
    "print('\\n\\nStationary points: ')\n",
    "result = solve([z_prime_x, z_prime_y], x, y)  # find diff == 0\n",
    "print(*result, sep='\\n')\n",
    "print('\\n')"
   ]
  },
  {
   "attachments": {},
   "cell_type": "markdown",
   "id": "e0f0f892",
   "metadata": {},
   "source": [
    "Поиск локального максимума(Точки экстремума у которых производная 2-го порядка меньше нуля)"
   ]
  },
  {
   "cell_type": "code",
   "execution_count": 19,
   "id": "6dce81f3",
   "metadata": {},
   "outputs": [
    {
     "name": "stdout",
     "output_type": "stream",
     "text": [
      "Local maxima:\n"
     ]
    }
   ],
   "source": [
    "print('Local maxima:')\n",
    "for element in result:\n",
    "    status = True if type(z_prime_x_2.subs({x: element[0]}) < 0) \\\n",
    "                     == BooleanTrue else False\n",
    "    if status:\n",
    "        status = True if type(z_prime_y_2.subs({y: element[1]}) < 0) \\\n",
    "                         == BooleanTrue else False\n",
    "        if status:\n",
    "            print('approximate values:')\n",
    "            print(f'x: {element[0].evalf()}\\ny: {element[1].evalf()}\\n')\n",
    "\n",
    "            print('exact values:')\n",
    "            print(f'x: {element[0]}\\ny: {element[1]}\\n')"
   ]
  },
  {
   "attachments": {},
   "cell_type": "markdown",
   "id": "bf371ce1",
   "metadata": {},
   "source": [
    "На всякий случай локального минимума :3"
   ]
  },
  {
   "cell_type": "code",
   "execution_count": 20,
   "id": "f0f551fc",
   "metadata": {},
   "outputs": [
    {
     "name": "stdout",
     "output_type": "stream",
     "text": [
      "Local minimal:\n",
      "approximate values:\n",
      "x: 0.276164737469651\n",
      "y: 0.424915932377939\n",
      "\n",
      "exact values:\n",
      "x: 2*(-2/9 + 1/(81*(7*sqrt(198849)/25272 + 9365/75816)**(1/3)) + (7*sqrt(198849)/25272 + 9365/75816)**(1/3))*(1/(27*(7*sqrt(198849)/25272 + 9365/75816)**(1/3)) + 1/3 + 3*(7*sqrt(198849)/25272 + 9365/75816)**(1/3))/7\n",
      "y: -2/9 + 1/(81*(7*sqrt(198849)/25272 + 9365/75816)**(1/3)) + (7*sqrt(198849)/25272 + 9365/75816)**(1/3)\n",
      "\n"
     ]
    }
   ],
   "source": [
    "print('Local minimal:')\n",
    "for element in result:\n",
    "    status = True if type(z_prime_x_2.subs({x: element[0]}) > 0) \\\n",
    "                     == BooleanTrue else False\n",
    "    if status:\n",
    "        status = True if type(z_prime_y_2.subs({y: element[1]}) > 0) \\\n",
    "                         == BooleanTrue else False\n",
    "        if status:\n",
    "            print('approximate values:')\n",
    "            print(f'x: {element[0].evalf()}\\ny: {element[1].evalf()}\\n')\n",
    "\n",
    "            print('exact values:')\n",
    "            print(f'x: {element[0]}\\ny: {element[1]}\\n')"
   ]
  },
  {
   "attachments": {},
   "cell_type": "markdown",
   "id": "e56fd3c6",
   "metadata": {},
   "source": [
    "Предлагаю функцию y=sin(x), у нее будет несколько минимумами. Найдите минимумы через sympy."
   ]
  },
  {
   "cell_type": "code",
   "execution_count": 22,
   "id": "886d421c",
   "metadata": {},
   "outputs": [],
   "source": [
    "my_func = sin(x) # Функция\n",
    "prime_x = my_func.diff(x) # Производная первого порядка по x\n",
    "prime_x_2 = prime_x.diff(x) # Производная второго порядка по x\n",
    "result = solve(prime_x, x) # Точки экстремума"
   ]
  },
  {
   "attachments": {},
   "cell_type": "markdown",
   "id": "8f91e547",
   "metadata": {},
   "source": [
    "Найдём среди точек экстремума локальные минимумы"
   ]
  },
  {
   "cell_type": "code",
   "execution_count": 23,
   "id": "b6c667f9",
   "metadata": {},
   "outputs": [
    {
     "name": "stdout",
     "output_type": "stream",
     "text": [
      "approximate values:\n",
      "x: 4.71238898038469\n",
      "\n",
      "exact values:\n",
      "x: 3*pi/2\n",
      "\n"
     ]
    }
   ],
   "source": [
    "local_min_points = []\n",
    "local_min_true_value = 0\n",
    "for element in result:\n",
    "    status = True if type(prime_x_2.subs({x: element}) > 0) \\\n",
    "                     == BooleanTrue else False\n",
    "    if status:\n",
    "        print('approximate values:')\n",
    "        print(f'x: {element.evalf()}\\n')\n",
    "\n",
    "        print('exact values:')\n",
    "        print(f'x: {element}\\n')\n",
    "        local_min_true_value = element.evalf()\n",
    "\n",
    "# Периодично сдвинем точки минимума\n",
    "for i in range(-2, 2):\n",
    "    local_min_points.append((local_min_true_value + i * 2 * pi).evalf())"
   ]
  },
  {
   "attachments": {},
   "cell_type": "markdown",
   "id": "d61fc65d",
   "metadata": {},
   "source": [
    "Построим график используя matplotlib"
   ]
  },
  {
   "cell_type": "code",
   "execution_count": 24,
   "id": "a604b63f",
   "metadata": {},
   "outputs": [
    {
     "data": {
      "image/png": "[encoded data removed]",
      "text/plain": [
       "<Figure size 640x480 with 1 Axes>"
      ]
     },
     "metadata": {},
     "output_type": "display_data"
    }
   ],
   "source": [
    "x_values = np.linspace(-3 * np.pi, 4 * np.pi, 100)\n",
    "\n",
    "fig = plt.figure()\n",
    "ax = fig.add_subplot(1, 1, 1)\n",
    "ax.spines['left'].set_position('center')\n",
    "ax.spines['bottom'].set_position('center')\n",
    "ax.spines['right'].set_color('none')\n",
    "ax.spines['top'].set_color('none')\n",
    "ax.xaxis.set_ticks_position('bottom')\n",
    "ax.yaxis.set_ticks_position('left')\n",
    "\n",
    "for point in local_min_points[:-1]:\n",
    "    ax.plot(point, sin(point), 'go')\n",
    "ax.plot(local_min_points[-1], sin(point), 'go', label='local min')\n",
    "\n",
    "# plot the functions, with labels\n",
    "plt.plot(x_values, np.sin(x_values), 'b-', label='y=sin(x)')\n",
    "plt.legend(loc='upper left')\n",
    "\n",
    "# show the plot\n",
    "plt.show()"
   ]
  },
  {
   "attachments": {},
   "cell_type": "markdown",
   "id": "3686f699",
   "metadata": {},
   "source": [
    "Запустите градиентный спуск из разных точек."
   ]
  },
  {
   "cell_type": "code",
   "execution_count": 37,
   "id": "485db96a",
   "metadata": {},
   "outputs": [
    {
     "name": "stdout",
     "output_type": "stream",
     "text": [
      "Найдем точки минимума с помощью градиентного спуска(1): \n",
      "(-10, 0.5440211108893698)\n",
      "(-399.61918522237744, -6.742358492744486)\n",
      "(-623216.762307575, -312.40295527667007)\n",
      "(-1514757241437.8765, -495059.01985888206)\n",
      "(-8.948509051906607e+24, -1207380524939.9116)\n",
      "(-3.1229567558301246e+50, -7.138616975538096e+24)\n",
      "(-3.803614970526157e+101, -2.4918288430217315e+50)\n",
      "\n",
      "Найдем точки минимума с помощью градиентного спуска(2):\n",
      "(-5, 0.9589242746631385)\n",
      "(-101.82875300773581, -3.284582038992425)\n",
      "(-40543.598222965855, -80.380880239132)\n",
      "(-6410795691.639431, -32321.475005078017)\n",
      "(-1.6028337546618733e+20, -5114389489.229936)\n",
      "(-1.0019396575825565e+41, -1.2789255073895005e+20)\n",
      "(-3.915144002002937e+82, -7.994967875148791e+40)\n",
      "\n",
      "Найдем точки минимума с помощью градиентного спуска(1):\n",
      "(-4.71238898038469, 1.0)\n",
      "(-90.61816759994382, -3.0986722862692835)\n",
      "(-32118.231204969205, -71.67271711159208)\n",
      "(-4023197193.771952, -25622.2870440627)\n",
      "(-6.312585107792381e+19, -3210159489.491008)\n",
      "(-1.5541004989817636e+40, -5.0371170125896294e+19)\n",
      "(-9.41939060764793e+80, -1.240105636078354e+40)\n"
     ]
    }
   ],
   "source": [
    "start_point_1 = (-10, np.sin(-10))\n",
    "start_point_2 = (-5, np.sin(-5))\n",
    "start_point_3 = (-3*np.pi/2, np.sin(-3*np.pi/2))\n",
    "\n",
    "print(f'Найдем точки минимума с помощью градиентного спуска(1): ')\n",
    "print(*gradient_down(start_point_1, 0.1, 6), sep='\\n')\n",
    "\n",
    "print(f'\\nНайдем точки минимума с помощью градиентного спуска(2):')\n",
    "print(*gradient_down(start_point_2, 0.1, 6), sep='\\n')\n",
    "\n",
    "print(f'\\nНайдем точки минимума с помощью градиентного спуска(1):')\n",
    "print(*gradient_down(start_point_3, 0.1, 6), sep='\\n')"
   ]
  }
 ],
 "metadata": {
  "kernelspec": {
   "display_name": "Python 3",
   "language": "python",
   "name": "python3"
  },
  "language_info": {
   "codemirror_mode": {
    "name": "ipython",
    "version": 3
   },
   "file_extension": ".py",
   "mimetype": "text/x-python",
   "name": "python",
   "nbconvert_exporter": "python",
   "pygments_lexer": "ipython3",
   "version": "3.11.1"
  },
  "vscode": {
   "interpreter": {
    "hash": "2c3e645da81579eaba2c8f70e452043c00b8fbf6968663b443314327603f0fd7"
   }
  }
 },
 "nbformat": 4,
 "nbformat_minor": 5
}
