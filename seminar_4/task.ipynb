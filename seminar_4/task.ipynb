{
 "cells": [
  {
   "attachments": {},
   "cell_type": "markdown",
   "id": "db1b0d6c",
   "metadata": {},
   "source": [
    "# Проверка на Python наших ответов из теста к лекции"
   ]
  },
  {
   "cell_type": "code",
   "execution_count": 49,
   "id": "53f62f68",
   "metadata": {},
   "outputs": [],
   "source": [
    "from sympy import *\n",
    "from sympy.logic.boolalg import BooleanTrue\n",
    "import matplotlib.pyplot as plt\n",
    "from matplotlib.animation import FuncAnimation\n",
    "import numpy as np\n"
   ]
  },
  {
   "attachments": {},
   "cell_type": "markdown",
   "id": "f6f8474b",
   "metadata": {},
   "source": [
    "## Основные функции для вычислений:"
   ]
  },
  {
   "cell_type": "code",
   "execution_count": 50,
   "id": "d46a598f",
   "metadata": {},
   "outputs": [],
   "source": [
    "def return_gradient(x, y, pr=False):\n",
    "    return 39 * (x ** 2) - 7 * y, -7 * x + 2 * y + 6 * (y ** 2)\n",
    "\n",
    "\n",
    "def step(point, learning_rate, show_values=False):\n",
    "    gradient_value = return_gradient(*point, True)\n",
    "\n",
    "    if show_values:\n",
    "        print(gradient_value)\n",
    "\n",
    "    return point[0] - learning_rate * gradient_value[0], point[1] - learning_rate * gradient_value[1]\n",
    "\n",
    "\n",
    "def gradient_down(start, learning_rate, iterations):\n",
    "    points_queue = [start]\n",
    "    for _ in range(iterations):\n",
    "        points_queue.append(step(points_queue[-1], learning_rate))\n",
    "    return points_queue"
   ]
  },
  {
   "attachments": {},
   "cell_type": "markdown",
   "id": "1bf68c4f",
   "metadata": {},
   "source": [
    "## Проверка ответов:\n",
    "\n",
    "- Градиент в точке (1, 2): (25, 21)\n",
    "- Итерация (1) после точки (1, 2): (-1.5, -0.10000000000000009)\n",
    "- Точка итерации (1), градиент: (88.45, 10.360000000000001)\n",
    "- Итерация (2), градиент:(-10.345, -1.1360000000000003)\n",
    "\n",
    "## Точки градиентного спуска:\n",
    "\n",
    "- (-1.5, -0.10000000000000009)\n",
    "- (-10.345, -1.1360000000000003)\n",
    "- (-428.51439750000014, -8.9245976)\n",
    "- (-716570.6581884937, -354.8888217231557)\n",
    "- (-2002547398708.1755, -577451.017259754)\n",
    "- (-1.563976472788624e+25, -1601853447457.1316)\n",
    "- (-9.539487389001748e+50, -1.248739598979983e+25)\n",
    "- (-3.549070966152012e+102, -7.613251523937638e+50)\n",
    "- (-4.912402841885439e+205, -2.8321192689068415e+102)\n",
    "- 10 точки нет, т.к python ловит overflow :(\n",
    "\n",
    "## Вывод о сходимости ряда\n",
    "\n",
    "#### Подставляя формулу ряда в условие Коши, получим:\n",
    "\n",
    "$$\n",
    "\\frac{\\left| 13(x+h)^{3} -7(x+h)y + y^{2} +2y^{3}-97 \\right|}{\\left| 13x^{3} -7xy + y^{2} +2y^{3}-97 \\right|} < 1\n",
    "$$\n",
    "\n",
    "#### При h стремящемся к 0, числитель и знаменатель выражения стремятся к 0. Используя правило Лопиталя, можно вычислить предел отношения производных:\n",
    "\n",
    "$$\n",
    "lim(h\\to 0) \\frac{|78 * x + 78 * h - 14 * y|}{|39 * x + 14 * y + 39 * h + 18 * y * h|}\n",
    "$$\n",
    "\n",
    "#### Поскольку пределы числителя и знаменателя существуют, можно подставить h = 0 и вычислить предел, проверим наши расчеты основываясь на данных градиентного спуска:\n",
    "\n",
    "$$\n",
    "lim(h\\to 0)\\frac{|39x^{2} - 7y|}{|-7x + 6y^{2} + 2y|} > 1\n",
    "$$\n",
    "\n",
    "$$\n",
    "\\begin{array}{rcl}\n",
    "z(x1, y1) & = & -141.917 \\\\\n",
    "z(x2, y2) & = & -1.541e+618 \\\\\n",
    "\\end{array}\n",
    "$$\n",
    "\n",
    "#### Можно сделать вывод, что ряд расходится, т.к.:\n",
    "\n",
    "$$\n",
    "\\left\\{ \\begin{array}{cl}\n",
    "lim(h\\to 0)\\frac{|39x^{2} - 7y|}{|-7x + 6y^{2} + 2y|} > 1 & : \\ \\\\\n",
    "\\Delta z(x= (-1.5,-4.9124e+205),\\ y=(-0.1, -2.8321e+102)) \\to -\\infty & : \\\n",
    "\\end{array} \\right. \\to \\text{Ряд расходится}\n",
    "$$"
   ]
  },
  {
   "cell_type": "code",
   "execution_count": 51,
   "id": "282c2def",
   "metadata": {},
   "outputs": [
    {
     "name": "stdout",
     "output_type": "stream",
     "text": [
      "Градиент в точке (1, 2): (25, 21)\n",
      "Итерация (1) после точки (1, 2): (-1.5, -0.10000000000000009)\n",
      "Точка итерации (1), градиент: (88.45, 10.360000000000001)\n",
      "Итерация (2), градиент:(-10.345, -1.1360000000000003)\n",
      "\n",
      "Точки градиентного спуска:\n",
      "\n",
      "(-1.5, -0.10000000000000009)\n",
      "(-10.345, -1.1360000000000003)\n",
      "(-428.51439750000014, -8.9245976)\n",
      "(-716570.6581884937, -354.8888217231557)\n",
      "(-2002547398708.1755, -577451.017259754)\n",
      "(-1.563976472788624e+25, -1601853447457.1316)\n",
      "(-9.539487389001748e+50, -1.248739598979983e+25)\n",
      "(-3.549070966152012e+102, -7.613251523937638e+50)\n",
      "(-4.912402841885439e+205, -2.8321192689068415e+102)\n",
      "10 точки нет, т.к python ловит overflow :(\n",
      "\n"
     ]
    }
   ],
   "source": [
    "print(f'Градиент в точке (1, 2): {return_gradient(1, 2)}')\n",
    "print(f'Итерация (1) после точки (1, 2): {step([1, 2], 0.1)}')\n",
    "print(f'Точка итерации (1), градиент: {return_gradient(*step([1, 2], 0.1))}')\n",
    "print(f'Итерация (2), градиент:{gradient_down([1, 2], 0.1, 2)[-1]}')\n",
    "\n",
    "print('\\nТочки градиентного спуска:\\n')\n",
    "print(*gradient_down([1, 2], 0.1, 9)[1:], sep='\\n')\n",
    "print('10 точки нет, т.к python ловит overflow :(\\n')\n",
    "\n"
   ]
  },
  {
   "attachments": {},
   "cell_type": "markdown",
   "id": "2d03dcca",
   "metadata": {},
   "source": [
    "# Поиск оптимума для функции z."
   ]
  },
  {
   "attachments": {},
   "cell_type": "markdown",
   "id": "94a159f2",
   "metadata": {},
   "source": [
    "## Вычисление производных функции:\n",
    "- Производные первого порядка:\n",
    "$$\n",
    "\\frac{dz }{dx} = 39x^{2} - 7y\n",
    "$$\n",
    "\n",
    "$$\n",
    "\\frac{dz }{dy} = -7x + 6y^{2} + 2y\n",
    "$$\n",
    "\n",
    "- Производные второго порядка:\n",
    "$$\n",
    "\\frac{d^{2}z}{dx^{2}} = 78x\n",
    "$$\n",
    "\n",
    "$$\n",
    "\\frac{d^{2}z}{dy^{2}} = 12y + 2\n",
    "$$"
   ]
  },
  {
   "cell_type": "code",
   "execution_count": 52,
   "id": "7b7da789",
   "metadata": {},
   "outputs": [],
   "source": [
    "x = Symbol('x') \n",
    "y = Symbol('y')\n",
    "z = 13 * x ** 3 - 7 * x * y + y ** 2 + 2 * y ** 3 - 97\n",
    "# Создаем символьное выражение sympy\n",
    "z_prime_x = z.diff(x) #Производная первого порядка по x\n",
    "z_prime_y = z.diff(y) #Производная первого порядка по y\n",
    "\n",
    "# print(z_prime_x, z_prime_y, sep='\\n')\n",
    "\n",
    "z_prime_y_2 = z_prime_y.diff(y) #Производная второго порядка по y\n",
    "z_prime_x_2 = z_prime_x.diff(x) #Производная второго порядка по x\n",
    "\n",
    "# print(z_prime_x_2, z_prime_y_2, sep='\\n')\n"
   ]
  },
  {
   "attachments": {},
   "cell_type": "markdown",
   "id": "d05b07d1",
   "metadata": {},
   "source": [
    "## Точки экстремума функции Z:\n",
    "$$\n",
    "\\begin{array}{rcl}\n",
    "(x,y) & = & (0, 0) \\\\\n",
    "(x,y) & = & (-0.138 + 0.342I, -0.545 - 0.526I) \\\\\n",
    "(x,y) & = & (-0.138 - 0.342I, -0.545 + 0.526I) \\\\\n",
    "(x,y) & = & (0.2761, 0.4249)\\\\\n",
    "\\end{array}\n",
    "$$"
   ]
  },
  {
   "cell_type": "code",
   "execution_count": 53,
   "id": "b01a26e5",
   "metadata": {},
   "outputs": [],
   "source": [
    "result = solve([z_prime_x, z_prime_y], x, y)  # find diff == 0 (exact values)\n",
    "# print('\\n\\nStationary points: ')\n",
    "# for element in result:\n",
    "#     print(element[0].evalf(), element[1].evalf(), sep='\\n') # approx values\n",
    "#     print()"
   ]
  },
  {
   "attachments": {},
   "cell_type": "markdown",
   "id": "e0f0f892",
   "metadata": {},
   "source": [
    "## Поиск оптимума\n",
    "\n",
    "$$\n",
    "\\left\\{ \\begin{array}{cl}\n",
    "\\frac{d z}{dx}\\equiv 0 \\text{ and }\\frac{d z}{dy}\\equiv 0& : \\ \\begin{array}{rcl}\n",
    "(x,y) & = & (0, 0) \\\\\n",
    "(x,y) & = & (-0.138 + 0.342I, -0.545 - 0.526I) \\\\\n",
    "(x,y) & = & (-0.138 - 0.342I, -0.545 + 0.526I) \\\\\n",
    "(x,y) & = & (0.2761, 0.4249)\\\\\n",
    "\\end{array} \\\\\n",
    "\\frac{d^{2} z}{dx^{2}} < 0 \\text{ and }\\frac{d^{2} z}{dy^{2}} < 0 & : \\ \\emptyset\n",
    "\\end{array} \\right.\\\\\\\\\n",
    "\\downarrow\n",
    "\\\\    (x, y) \\in\\emptyset\n",
    "$$"
   ]
  },
  {
   "cell_type": "code",
   "execution_count": 54,
   "id": "6dce81f3",
   "metadata": {},
   "outputs": [],
   "source": [
    "for element in result:\n",
    "    status = True if type(z_prime_x_2.subs({x: element[0]}) < 0) \\\n",
    "                     == BooleanTrue else False\n",
    "    if status:\n",
    "        status = True if type(z_prime_y_2.subs({y: element[1]}) < 0) \\\n",
    "                         == BooleanTrue else False\n",
    "        if status:\n",
    "            print('approximate values:')\n",
    "            print(f'x: {element[0].evalf()}\\ny: {element[1].evalf()}\\n')\n",
    "\n",
    "            print('exact values:')\n",
    "            print(f'x: {element[0]}\\ny: {element[1]}\\n')"
   ]
  },
  {
   "attachments": {},
   "cell_type": "markdown",
   "id": "bf371ce1",
   "metadata": {},
   "source": [
    "## Точки локального минимума\n",
    "$$\n",
    "\\left\\{ \\begin{array}{cl}\n",
    "\\frac{d z}{dx}\\equiv 0 \\text{ and }\\frac{d z}{dy}\\equiv 0& : \\ \\begin{array}{rcl}\n",
    "(x,y) & = & (0, 0) \\\\\n",
    "(x,y) & = & (-0.138 + 0.342I, -0.545 - 0.526I) \\\\\n",
    "(x,y) & = & (-0.138 - 0.342I, -0.545 + 0.526I) \\\\\n",
    "(x,y) & = & (0.2761, 0.4249)\\\\\n",
    "\\end{array} \\\\\n",
    "\\frac{d^{2} z}{dx^{2}} > 0 \\text{ and }\\frac{d^{2} z}{dy^{2}} > 0 & : \\ (x,y) = (0.2761, 0.4249)\n",
    "\\end{array} \\right.\\\\\\\\\n",
    "\\downarrow\n",
    "\\\\    (x, y) = (0.2761, 0.4249)\n",
    "$$"
   ]
  },
  {
   "cell_type": "code",
   "execution_count": 55,
   "id": "f0f551fc",
   "metadata": {},
   "outputs": [],
   "source": [
    "for element in result:\n",
    "    status = True if type(z_prime_x_2.subs({x: element[0]}) > 0) \\\n",
    "                     == BooleanTrue else False\n",
    "    if status:\n",
    "        status = True if type(z_prime_y_2.subs({y: element[1]}) > 0) \\\n",
    "                         == BooleanTrue else False\n",
    "        if status:\n",
    "            # print('approximate values:')\n",
    "            # print(f'x: {element[0].evalf()}\\ny: {element[1].evalf()}\\n')\n",
    "\n",
    "            # print('exact values:')\n",
    "            # print(f'x: {element[0]}\\ny: {element[1]}\\n')\n",
    "            pass"
   ]
  },
  {
   "attachments": {},
   "cell_type": "markdown",
   "id": "e56fd3c6",
   "metadata": {},
   "source": [
    "# Функция y=sin(x) и её минимумы."
   ]
  },
  {
   "cell_type": "code",
   "execution_count": 56,
   "id": "886d421c",
   "metadata": {},
   "outputs": [],
   "source": [
    "my_func = sin(x) # Функция\n",
    "prime_x = my_func.diff(x) # Производная первого порядка по x\n",
    "prime_x_2 = prime_x.diff(x) # Производная второго порядка по x\n",
    "\n",
    "# print(prime_x, prime_x_2, sep='\\n')"
   ]
  },
  {
   "attachments": {},
   "cell_type": "markdown",
   "id": "8f91e547",
   "metadata": {},
   "source": [
    "## Найдём локальные минимумы функции\n",
    "$$\n",
    "\\left\\{ \\begin{array}{cl}\n",
    "\\frac{d y}{dx}\\equiv 0 & : \\ \\begin{array}{rcl}\n",
    "(x,y) & = & (\\frac{3\\pi}{2}, -1) \\\\\n",
    "(x,y) & = & (\\frac{\\pi}{2}, 1) \\\\\n",
    "\\end{array} \\\\\n",
    "\\frac{d^{2} y}{dx^{2}} > 0 & : \\ (\\frac{3\\pi}{2}, -1)\n",
    "\\end{array} \\right.\\\\\n",
    "\\downarrow\n",
    "\\\\    (x, y) = (\\frac{3\\pi}{2} + 2\\pi k, -1)\n",
    "$$\n"
   ]
  },
  {
   "cell_type": "code",
   "execution_count": 57,
   "id": "b6c667f9",
   "metadata": {},
   "outputs": [
    {
     "name": "stdout",
     "output_type": "stream",
     "text": [
      "approximate values:\n",
      "x: 4.71238898038469\n",
      "\n",
      "exact values:\n",
      "x: 3*pi/2\n",
      "\n"
     ]
    }
   ],
   "source": [
    "result = solve(prime_x, x) # Точки экстремума\n",
    "local_min_points = []\n",
    "local_min_true_value = 0\n",
    "for element in result:\n",
    "    status = True if type(prime_x_2.subs({x: element}) > 0) \\\n",
    "                     == BooleanTrue else False\n",
    "    if status:\n",
    "        print('approximate values:')\n",
    "        print(f'x: {element.evalf()}\\n')\n",
    "\n",
    "        print('exact values:')\n",
    "        print(f'x: {element}\\n')\n",
    "        local_min_true_value = element.evalf()\n",
    "\n",
    "# Периодично сдвинем точки минимума\n",
    "for i in range(-2, 2):\n",
    "    local_min_points.append((local_min_true_value + i * 2 * pi).evalf())"
   ]
  },
  {
   "attachments": {},
   "cell_type": "markdown",
   "id": "d61fc65d",
   "metadata": {},
   "source": [
    "## Построим график функции и отметим на нём точки минимума."
   ]
  },
  {
   "cell_type": "code",
   "execution_count": 58,
   "id": "a604b63f",
   "metadata": {},
   "outputs": [
    {
     "data": {
      "image/png": "[encoded data removed]",
      "text/plain": [
       "<Figure size 640x480 with 1 Axes>"
      ]
     },
     "metadata": {},
     "output_type": "display_data"
    }
   ],
   "source": [
    "x_values = np.linspace(-3 * np.pi, 4 * np.pi, 100)\n",
    "\n",
    "fig = plt.figure()\n",
    "ax = fig.add_subplot(1, 1, 1)\n",
    "ax.spines['left'].set_position('center')\n",
    "ax.spines['bottom'].set_position('center')\n",
    "ax.spines['right'].set_color('none')\n",
    "ax.spines['top'].set_color('none')\n",
    "ax.xaxis.set_ticks_position('bottom')\n",
    "ax.yaxis.set_ticks_position('left')\n",
    "\n",
    "for point in local_min_points[:-1]:\n",
    "    ax.plot(point, sin(point), 'go')\n",
    "ax.plot(local_min_points[-1], sin(point), 'go', label='Local min')\n",
    "\n",
    "# plot the functions, with labels\n",
    "plt.plot(x_values, np.sin(x_values), 'b-', label='y=sin(x)')\n",
    "plt.legend(loc='upper left')\n",
    "\n",
    "# show the plot\n",
    "plt.show()"
   ]
  },
  {
   "attachments": {},
   "cell_type": "markdown",
   "id": "3686f699",
   "metadata": {},
   "source": [
    "# Запустим градиентный спуск из разных точек — так, чтобы он нашёл разные минимумы"
   ]
  },
  {
   "cell_type": "code",
   "execution_count": 59,
   "id": "485db96a",
   "metadata": {},
   "outputs": [
    {
     "name": "stdout",
     "output_type": "stream",
     "text": [
      "Найдем точки минимума с помощью градиентного спуска(1): \n",
      "(-10, 0.5440211108893698)\n",
      "(-399.61918522237744, -6.742358492744486)\n",
      "(-623216.762307575, -312.40295527667007)\n",
      "(-1514757241437.8765, -495059.01985888206)\n",
      "(-8.948509051906607e+24, -1207380524939.9116)\n",
      "(-3.1229567558301246e+50, -7.138616975538096e+24)\n",
      "(-3.803614970526157e+101, -2.4918288430217315e+50)\n",
      "\n",
      "Найдем точки минимума с помощью градиентного спуска(2):\n",
      "(-5, 0.9589242746631386)\n",
      "(-101.82875300773581, -3.284582038992426)\n",
      "(-40543.598222965855, -80.380880239132)\n",
      "(-6410795691.639431, -32321.475005078017)\n",
      "(-1.6028337546618733e+20, -5114389489.229936)\n",
      "(-1.0019396575825565e+41, -1.2789255073895005e+20)\n",
      "(-3.915144002002937e+82, -7.994967875148791e+40)\n",
      "\n",
      "Найдем точки минимума с помощью градиентного спуска(1):\n",
      "(-4.71238898038469, 1.0)\n",
      "(-90.61816759994382, -3.0986722862692835)\n",
      "(-32118.231204969205, -71.67271711159208)\n",
      "(-4023197193.771952, -25622.2870440627)\n",
      "(-6.312585107792381e+19, -3210159489.491008)\n",
      "(-1.5541004989817636e+40, -5.0371170125896294e+19)\n",
      "(-9.41939060764793e+80, -1.240105636078354e+40)\n"
     ]
    }
   ],
   "source": [
    "start_point_1 = (-10, np.sin(-10))\n",
    "start_point_2 = (-5, np.sin(-5))\n",
    "start_point_3 = (-3*np.pi/2, np.sin(-3*np.pi/2))\n",
    "\n",
    "print(f'Найдем точки минимума с помощью градиентного спуска(1): ')\n",
    "print(*gradient_down(start_point_1, 0.1, 6), sep='\\n')\n",
    "\n",
    "print(f'\\nНайдем точки минимума с помощью градиентного спуска(2):')\n",
    "print(*gradient_down(start_point_2, 0.1, 6), sep='\\n')\n",
    "\n",
    "print(f'\\nНайдем точки минимума с помощью градиентного спуска(1):')\n",
    "print(*gradient_down(start_point_3, 0.1, 6), sep='\\n')"
   ]
  }
 ],
 "metadata": {
  "kernelspec": {
   "display_name": "Python 3.10.8 64-bit",
   "language": "python",
   "name": "python3"
  },
  "language_info": {
   "codemirror_mode": {
    "name": "ipython",
    "version": 3
   },
   "file_extension": ".py",
   "mimetype": "text/x-python",
   "name": "python",
   "nbconvert_exporter": "python",
   "pygments_lexer": "ipython3",
   "version": "3.10.8"
  },
  "vscode": {
   "interpreter": {
    "hash": "767d51c1340bd893661ea55ea3124f6de3c7a262a8b4abca0554b478b1e2ff90"
   }
  }
 },
 "nbformat": 4,
 "nbformat_minor": 5
}
